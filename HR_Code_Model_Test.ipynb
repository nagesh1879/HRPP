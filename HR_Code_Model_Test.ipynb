{
 "cells": [
  {
   "cell_type": "code",
   "execution_count": 56,
   "id": "0fcfc3aa",
   "metadata": {},
   "outputs": [],
   "source": [
    "# Importing all the required libraries\n",
    "import pandas as pd\n",
    "import numpy as np\n",
    "import os\n",
    "from sklearn.ensemble import RandomForestClassifier\n",
    "import pickle"
   ]
  },
  {
   "cell_type": "code",
   "execution_count": 57,
   "id": "b649ff21",
   "metadata": {},
   "outputs": [],
   "source": [
    "# Loading the datasets\n",
    "test = pd.read_csv('aug_test.csv')\n",
    "test.insert(1, column = \"target\", value = 0)\n",
    "pre_result = test.iloc[:, :2]\n",
    "test = test.drop(columns = ['target'])"
   ]
  },
  {
   "cell_type": "code",
   "execution_count": 58,
   "id": "26ce8663",
   "metadata": {},
   "outputs": [],
   "source": [
    "# Data managament on new test data same as training data\n",
    "test.drop(['enrollee_id','city'],axis=1,inplace=True)\n",
    "\n",
    "X_cats2 = (OneHotEncoder(sparse=False,handle_unknown='ignore')\n",
    "                   .fit_transform(test[['gender','relevent_experience',\n",
    "                           'enrolled_university','education_level',\n",
    "                           'major_discipline','company_type',\n",
    "                           'last_new_job','experience','company_size']]))\n",
    "X_cats2 = pd.DataFrame(X_cats2)\n",
    "\n",
    "X_numerical2 = test.drop(columns=['gender','relevent_experience',\n",
    "                                  'enrolled_university','education_level',\n",
    "                                 'major_discipline','company_type',\n",
    "                                  'last_new_job','experience','company_size'])\n",
    "col_names = X_numerical2.columns\n",
    "X_numerical2 = pd.DataFrame(X_numerical2, columns=col_names)\n",
    "X_test2 = X_numerical2.join(X_cats2)\n",
    "\n",
    "X_test2.fillna(0, inplace=True)\n",
    "X_test2.columns = X_test2.columns.astype('str')"
   ]
  },
  {
   "cell_type": "code",
   "execution_count": 59,
   "id": "f8f3fd80",
   "metadata": {},
   "outputs": [],
   "source": [
    "with open(\"model_hr.pkl\", \"rb\") as f:\n",
    "    model = pickle.load(f)\n",
    "\n",
    "# Prediction for new test data\n",
    "pre_result.target = model.predict(X_test2)"
   ]
  },
  {
   "cell_type": "code",
   "execution_count": 60,
   "id": "56c6c0db",
   "metadata": {},
   "outputs": [],
   "source": [
    "pre_result.to_csv('result.csv',index=False)"
   ]
  },
  {
   "cell_type": "code",
   "execution_count": null,
   "id": "5d524598",
   "metadata": {},
   "outputs": [],
   "source": []
  }
 ],
 "metadata": {
  "kernelspec": {
   "display_name": "Python 3 (ipykernel)",
   "language": "python",
   "name": "python3"
  },
  "language_info": {
   "codemirror_mode": {
    "name": "ipython",
    "version": 3
   },
   "file_extension": ".py",
   "mimetype": "text/x-python",
   "name": "python",
   "nbconvert_exporter": "python",
   "pygments_lexer": "ipython3",
   "version": "3.9.13"
  }
 },
 "nbformat": 4,
 "nbformat_minor": 5
}
