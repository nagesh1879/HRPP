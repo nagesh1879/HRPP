{
 "cells": [
  {
   "cell_type": "code",
   "execution_count": 116,
   "id": "0fcfc3aa",
   "metadata": {},
   "outputs": [],
   "source": [
    "# Importing all the required libraries\n",
    "\n",
    "from sklearn.svm import SVC\n",
    "from sklearn.pipeline import make_pipeline\n",
    "from sklearn.preprocessing import LabelEncoder\n",
    "from sklearn.preprocessing import OneHotEncoder\n",
    "from sklearn.metrics import accuracy_score\n",
    "from sklearn.model_selection import train_test_split\n",
    "from sklearn.tree import DecisionTreeClassifier\n",
    "import pandas as pd\n",
    "import numpy as np\n",
    "from sklearn import tree\n",
    "pd.set_option('display.max_columns', None)\n",
    "pd.set_option('display.max_rows', None)\n",
    "np.set_printoptions(threshold=np.inf)\n",
    "import os\n",
    "from sklearn.pipeline import make_pipeline\n",
    "os.getcwd()\n",
    "import warnings\n",
    "warnings.filterwarnings(\"ignore\")\n",
    "import matplotlib.pyplot as plt\n",
    "import seaborn as sns\n",
    "import statistics as s\n",
    "import numpy as np\n",
    "from sklearn.linear_model import LogisticRegression\n",
    "from sklearn.svm import SVC\n",
    "from sklearn.metrics import f1_score\n",
    "from sklearn.metrics import confusion_matrix\n",
    "from sklearn.metrics import roc_auc_score\n",
    "from sklearn.ensemble import RandomForestClassifier"
   ]
  },
  {
   "cell_type": "code",
   "execution_count": 117,
   "id": "b649ff21",
   "metadata": {},
   "outputs": [],
   "source": [
    "# Loading the datasets\n",
    "train = pd.read_csv('aug_train.csv')"
   ]
  },
  {
   "cell_type": "code",
   "execution_count": 118,
   "id": "ace23cd7",
   "metadata": {},
   "outputs": [],
   "source": [
    "#removing 'enrollee_id' from data since it is not required in model\n",
    "train.drop(['enrollee_id','city'],axis=1,inplace=True)"
   ]
  },
  {
   "cell_type": "markdown",
   "id": "353afa92",
   "metadata": {},
   "source": [
    "### Separating independent and dependent variables"
   ]
  },
  {
   "cell_type": "code",
   "execution_count": 119,
   "id": "4ec902e9",
   "metadata": {},
   "outputs": [],
   "source": [
    "X = train.drop(columns=['target'])\n",
    "\n",
    "y = train['target']"
   ]
  },
  {
   "cell_type": "code",
   "execution_count": 120,
   "id": "b527022a",
   "metadata": {},
   "outputs": [],
   "source": [
    "# Encoding categorical variables\n",
    "X_cats = (OneHotEncoder(sparse=False,handle_unknown='ignore')\n",
    "                   .fit_transform(X[['gender','relevent_experience',\n",
    "                           'enrolled_university','education_level',\n",
    "                           'major_discipline','company_type',\n",
    "                           'last_new_job','experience','company_size']]))\n",
    "X_cats = pd.DataFrame(X_cats)"
   ]
  },
  {
   "cell_type": "code",
   "execution_count": 121,
   "id": "28f9295f",
   "metadata": {},
   "outputs": [],
   "source": [
    "# Merging encoded categorical variables with numeric variables\n",
    "X_numerical = X.drop(columns=['gender','relevent_experience',\n",
    "                                  'enrolled_university','education_level',\n",
    "                                 'major_discipline','company_type',\n",
    "                                  'last_new_job','experience','company_size'])\n",
    "col_names = X_numerical.columns\n",
    "X_numerical = pd.DataFrame(X_numerical, columns=col_names)\n",
    "X = X_numerical.join(X_cats)"
   ]
  },
  {
   "cell_type": "code",
   "execution_count": 122,
   "id": "0af6d72b",
   "metadata": {},
   "outputs": [],
   "source": [
    "# Since the Target has \"0\" far more than \"1\" we will just fill NA values with 0 for this problem\n",
    "X.fillna(0, inplace=True)"
   ]
  },
  {
   "cell_type": "code",
   "execution_count": 123,
   "id": "43b36755",
   "metadata": {},
   "outputs": [],
   "source": [
    "# Using SMOTE for handling class imbalance\n",
    "from imblearn.over_sampling import SMOTE\n",
    "smote = SMOTE(random_state = 0)\n",
    "X.columns = X.columns.astype('str')\n",
    "\n",
    "X_smote, y_smote = smote.fit_resample(X,y)\n"
   ]
  },
  {
   "cell_type": "code",
   "execution_count": 124,
   "id": "fed8d360",
   "metadata": {},
   "outputs": [],
   "source": [
    "# Splitting data into training and testing\n",
    "X_train, X_test, y_train, y_test = train_test_split(X_smote,\n",
    "                                                    y_smote,\n",
    "                                                    test_size=0.2,\n",
    "                                                    random_state=42)"
   ]
  },
  {
   "cell_type": "code",
   "execution_count": 125,
   "id": "a46aa2d5",
   "metadata": {},
   "outputs": [],
   "source": [
    "# Creating a function to test and compare various algorithms\n",
    "def model_fit(x_train, y_train, test_data):\n",
    "        \n",
    "    #RandomForest\n",
    "    alg = RandomForestClassifier()\n",
    "    alg.fit(x_train, y_train)\n",
    "    y_pred = alg.predict(test_data)  \n",
    "    print('Random Forest Model 3')\n",
    "    print('AUC On Test Set - {}'.format(roc_auc_score(y_pred, y_test)))\n",
    "    conf_mat = confusion_matrix(y_pred, y_test)\n",
    "    print('Confusion Matrix :\\n',conf_mat)\n",
    "    sensitivity1 = conf_mat[0,0]/(conf_mat[0,0]+conf_mat[0,1])\n",
    "    print('Sensitivity : ', sensitivity1 )\n",
    "    specificity1 = conf_mat[1,1]/(conf_mat[1,0]+conf_mat[1,1])\n",
    "    print('Specificity : ', specificity1)\n",
    "    f1_score2 = f1_score(y_test,y_pred)\n",
    "    print('f1_score : ', f1_score2)\n",
    "    "
   ]
  },
  {
   "cell_type": "code",
   "execution_count": 126,
   "id": "79350d19",
   "metadata": {},
   "outputs": [
    {
     "name": "stdout",
     "output_type": "stream",
     "text": [
      "Random Forest Model 3\n",
      "AUC On Test Set - 0.8553908205571831\n",
      "Confusion Matrix :\n",
      " [[2530  490]\n",
      " [ 347 2386]]\n",
      "Sensitivity :  0.8377483443708609\n",
      "Specificity :  0.8730332967435053\n",
      "f1_score :  0.8507755393118204\n"
     ]
    }
   ],
   "source": [
    "model_fit(X_train, y_train,X_test)"
   ]
  },
  {
   "cell_type": "markdown",
   "id": "4f50d35c",
   "metadata": {},
   "source": [
    "#### From the above output, we can conclude that RandomForest is the best algorithm to go forward"
   ]
  },
  {
   "cell_type": "code",
   "execution_count": 127,
   "id": "95a84453",
   "metadata": {},
   "outputs": [],
   "source": [
    "# Tuning Hyperparameters\n",
    "from sklearn.model_selection import RandomizedSearchCV\n",
    "\n",
    "forest  = RandomForestClassifier(random_state = 42)\n",
    "\n",
    "params = {\n",
    "        'n_estimators' : [100, 300, 500, 800, 1200],\n",
    "        'max_depth' : [5, 8, 15, 25, 30],\n",
    "        'min_samples_split' : [2, 5, 10, 15, 100],\n",
    "        'min_samples_leaf' : [1, 2, 5, 10] \n",
    "        }\n",
    "\n",
    "gridF = RandomizedSearchCV(forest, params, cv = 5, verbose = 1)"
   ]
  },
  {
   "cell_type": "code",
   "execution_count": 128,
   "id": "e95e6803",
   "metadata": {},
   "outputs": [
    {
     "name": "stdout",
     "output_type": "stream",
     "text": [
      "Fitting 5 folds for each of 10 candidates, totalling 50 fits\n"
     ]
    }
   ],
   "source": [
    "clf_grid = gridF.fit(X_train, y_train)"
   ]
  },
  {
   "cell_type": "code",
   "execution_count": 129,
   "id": "3490432f",
   "metadata": {},
   "outputs": [
    {
     "data": {
      "text/plain": [
       "{'n_estimators': 100,\n",
       " 'min_samples_split': 15,\n",
       " 'min_samples_leaf': 2,\n",
       " 'max_depth': 25}"
      ]
     },
     "execution_count": 129,
     "metadata": {},
     "output_type": "execute_result"
    }
   ],
   "source": [
    "clf_grid.best_params_"
   ]
  },
  {
   "cell_type": "code",
   "execution_count": 130,
   "id": "52c75e1a",
   "metadata": {},
   "outputs": [
    {
     "data": {
      "text/plain": [
       "RandomForestClassifier(max_depth=30, min_samples_leaf=2, min_samples_split=10,\n",
       "                       n_estimators=800)"
      ]
     },
     "execution_count": 130,
     "metadata": {},
     "output_type": "execute_result"
    }
   ],
   "source": [
    "# Running model on entire data \n",
    "model = RandomForestClassifier(n_estimators=800,\n",
    "                               min_samples_split=10,\n",
    "                               min_samples_leaf=2, \n",
    "                               max_depth=30)\n",
    "model.fit(X_smote, y_smote)\n",
    "\n"
   ]
  },
  {
   "cell_type": "code",
   "execution_count": 131,
   "id": "f1fd0377",
   "metadata": {},
   "outputs": [],
   "source": [
    "import pickle\n",
    "\n",
    "# Save the model to a file\n",
    "with open(\"model_hr.pkl\", \"wb\") as f:\n",
    "    pickle.dump(model, f)"
   ]
  },
  {
   "cell_type": "code",
   "execution_count": null,
   "id": "6a2582f6",
   "metadata": {},
   "outputs": [],
   "source": []
  }
 ],
 "metadata": {
  "kernelspec": {
   "display_name": "Python 3 (ipykernel)",
   "language": "python",
   "name": "python3"
  },
  "language_info": {
   "codemirror_mode": {
    "name": "ipython",
    "version": 3
   },
   "file_extension": ".py",
   "mimetype": "text/x-python",
   "name": "python",
   "nbconvert_exporter": "python",
   "pygments_lexer": "ipython3",
   "version": "3.9.13"
  }
 },
 "nbformat": 4,
 "nbformat_minor": 5
}
